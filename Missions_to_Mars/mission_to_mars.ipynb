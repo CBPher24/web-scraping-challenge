{
 "cells": [
  {
   "cell_type": "code",
   "execution_count": 1,
   "id": "40db8b59",
   "metadata": {},
   "outputs": [
    {
     "name": "stdout",
     "output_type": "stream",
     "text": [
      "\n"
     ]
    },
    {
     "name": "stderr",
     "output_type": "stream",
     "text": [
      "[WDM] - ====== WebDriver manager ======\n",
      "[WDM] - Current google-chrome version is 103.0.5060\n",
      "[WDM] - Get LATEST chromedriver version for 103.0.5060 google-chrome\n",
      "[WDM] - Driver [C:\\Users\\Chris Partee\\.wdm\\drivers\\chromedriver\\win32\\103.0.5060.53\\chromedriver.exe] found in cache\n"
     ]
    }
   ],
   "source": [
    "import os\n",
    "import pandas as pd\n",
    "from splinter import Browser\n",
    "from bs4 import BeautifulSoup\n",
    "from webdriver_manager.chrome import ChromeDriverManager\n",
    "import datetime as dt\n",
    "\n",
    "executable_path = {'executable_path': ChromeDriverManager().install()}\n",
    "browser = Browser('chrome', **executable_path, headless=True)"
   ]
  },
  {
   "cell_type": "code",
   "execution_count": 2,
   "id": "2e7d58de",
   "metadata": {},
   "outputs": [],
   "source": [
    "mars_data = {}"
   ]
  },
  {
   "cell_type": "code",
   "execution_count": 4,
   "id": "2a8fe988",
   "metadata": {},
   "outputs": [],
   "source": [
    "# # Enter whatever URL you like\n",
    "browser.visit(\"https://redplanetscience.com/\")\n",
    "\n",
    "# Add the page source to the variable `content`.\n",
    "content = browser.html\n",
    "# Load the contents of the page, its source, into BeautifulSoup \n",
    "\n",
    "soup = BeautifulSoup(content,features=\"lxml\")\n",
    "# print (soup.prettify)"
   ]
  },
  {
   "cell_type": "code",
   "execution_count": 5,
   "id": "e419eeaf",
   "metadata": {
    "scrolled": false
   },
   "outputs": [
    {
     "name": "stdout",
     "output_type": "stream",
     "text": [
      "[{'news_title': 'Mars Scientists Investigate Ancient Life in Australia', 'news_p': \"Teams with NASA's Mars 2020 and ESA's ExoMars practiced hunting for fossilized microbial life in the Australian Outback in preparation for their Red Planet missions. \"}, {'news_title': 'The MarCO Mission Comes to an End', 'news_p': 'The pair of briefcase-sized satellites made history when they sailed past Mars in 2019.'}, {'news_title': \"Celebrate Mars Reconnaissance Orbiter's Views From Above\", 'news_p': 'Marking its 15th anniversary since launch, one of the oldest spacecraft at the Red Planet has provided glimpses of dust devils, avalanches, and more.'}, {'news_title': \"The Detective Aboard NASA's Perseverance Rover\", 'news_p': 'An instrument called SHERLOC will, with the help of its partner WATSON, hunt for signs of ancient life by detecting organic molecules and minerals.'}, {'news_title': \"From JPL's Mailroom to Mars and Beyond\", 'news_p': 'Bill Allen has thrived as the mechanical systems design lead for three Mars rover missions, but he got his start as a teenager sorting letters for the NASA center.'}, {'news_title': \"Newfound Martian Aurora Actually the Most Common; Sheds Light on Mars' Changing Climate\", 'news_p': 'A type of Martian aurora first identified by NASA’s MAVEN spacecraft in 2016 is actually the most common form of aurora occurring on the Red Planet, according to new results from the mission.'}, {'news_title': 'With Mars Methane Mystery Unsolved, Curiosity Serves Scientists a New One: Oxygen', 'news_p': 'For the first time in the history of space exploration, scientists have measured the seasonal changes in the gases that fill the air directly above the surface of Gale Crater on Mars. '}, {'news_title': 'NASA Mars Mission Connects With Bosnian and Herzegovinian Town', 'news_p': 'A letter from NASA was presented to the mayor of Jezero, Bosnia-Herzegovina, honoring the connection between the town and Jezero Crater, the Mars 2020 rover landing site.'}, {'news_title': 'Two of a Space Kind: Apollo 12 and Mars 2020', 'news_p': 'Apollo 12 and the upcoming Mars 2020 mission may be separated by half a century, but they share several goals unique in the annals of space exploration.'}, {'news_title': \"Mars Helicopter Attached to NASA's Perseverance Rover\", 'news_p': \"The team also fueled the rover's sky crane to get ready for this summer's history-making launch.\"}, {'news_title': 'AI Is Helping Scientists Discover Fresh Craters on Mars', 'news_p': \"It's the first time machine learning has been used to find previously unknown craters on the Red Planet.\"}, {'news_title': \"NASA's Mars 2020 Will Hunt for Microscopic Fossils\", 'news_p': \"A new paper identifies a ring of minerals at the rover's landing site that are ideal for fossilizing microbial life.\"}, {'news_title': \"NASA's Briefcase-Size MarCO Satellite Picks Up Honors\", 'news_p': 'The twin spacecraft, the first of their kind to fly into deep space, earn a Laureate from Aviation Week & Space Technology.'}, {'news_title': \"Hear Audio From NASA's Perseverance As It Travels Through Deep Space\", 'news_p': \"The first to be rigged with microphones, the agency's latest Mars rover picked up the subtle sounds of its own inner workings during interplanetary flight.\"}, {'news_title': \"Three New Views of Mars' Moon Phobos\", 'news_p': \"Taken with the infrared camera aboard NASA's Odyssey orbiter, they reveal temperature variations on the small moon as it drifts into and out of Mars’ shadow.\"}]\n"
     ]
    }
   ],
   "source": [
    "# Object is “results”, brackets make the object an empty list.\n",
    "# We will be storing our data here.\n",
    "results = []\n",
    "for element in soup.findAll(attrs={'class': 'list_text'}):\n",
    "    news={}\n",
    "    title = element.find(attrs={'class':'content_title'})\n",
    "#     print (title.text)\n",
    "    para = element.find(attrs={'class':'article_teaser_body'})\n",
    "#     print (para.text)\n",
    "    news['news_title']=title.text\n",
    "    news['news_p']=para.text\n",
    "\n",
    "    results.append(news)\n",
    "\n",
    "mars_data[\"news\"] = results\n",
    "print(results)"
   ]
  },
  {
   "cell_type": "code",
   "execution_count": 7,
   "id": "4d230b2f",
   "metadata": {
    "scrolled": true
   },
   "outputs": [
    {
     "name": "stdout",
     "output_type": "stream",
     "text": [
      "<bound method Tag.prettify of <html class=\"\"><head>\n",
      "<meta charset=\"utf-8\"/>\n",
      "<meta content=\"width=device-width, initial-scale=1\" name=\"viewport\"/>\n",
      "<link href=\"https://maxcdn.bootstrapcdn.com/bootstrap/4.0.0/css/bootstrap.min.css\" rel=\"stylesheet\"/>\n",
      "<!-- <link rel=\"stylesheet\" type=\"text/css\" href=\"css/font.css\"> -->\n",
      "<link href=\"css/app.css\" rel=\"stylesheet\" type=\"text/css\"/>\n",
      "<link href=\"https://stackpath.bootstrapcdn.com/font-awesome/4.7.0/css/font-awesome.min.css\" rel=\"stylesheet\" type=\"text/css\"/>\n",
      "<title>Space Image</title>\n",
      "<style type=\"text/css\">.fancybox-margin{margin-right:17px;}</style></head>\n",
      "<body>\n",
      "<div class=\"header\">\n",
      "<nav class=\"navbar navbar-expand-lg\">\n",
      "<a class=\"navbar-brand\" href=\"#\"><img id=\"logo\" src=\"image/nasa.png\"/><span class=\"logo\">Jet Propulsion Laboratory</span>\n",
      "<span class=\"logo1\">California Institute of Technology</span></a>\n",
      "<button aria-controls=\"navbarNav\" aria-expanded=\"false\" aria-label=\"Toggle navigation\" class=\"navbar-toggler\" data-target=\"#navbarNav\" data-toggle=\"collapse\" type=\"button\">\n",
      "<span class=\"navbar-toggler-icon\"></span>\n",
      "</button>\n",
      "<div class=\"collapse navbar-collapse justify-content-end\" id=\"navbarNav\">\n",
      "<ul class=\"navbar-nav\">\n",
      "<li class=\"nav-item active\">\n",
      "<a class=\"nav-link\" href=\"#\"><i aria-hidden=\"true\" class=\"fa fa-bars\"></i>   MENU   <i aria-hidden=\"true\" class=\"fa fa-search\"></i></a>\n",
      "</li>\n",
      "</ul>\n",
      "</div>\n",
      "</nav>\n",
      "<div class=\"floating_text_area\">\n",
      "<h2 class=\"brand_title\">FEATURED IMAGE</h2>\n",
      "<h1 class=\"media_feature_title\">Dusty Space Cloud</h1>\n",
      "<br/>\n",
      "<a class=\"showimg fancybox-thumbs\" href=\"image/featured/mars1.jpg\" target=\"_blank\"> <button class=\"btn btn-outline-light\"> FULL IMAGE</button></a>\n",
      "</div>\n",
      "<img class=\"headerimage fade-in\" src=\"image/featured/mars1.jpg\"/></div>\n",
      "<div class=\"search sticky\">\n",
      "<div class=\"col-md-12\">\n",
      "<div class=\"row\">\n",
      "<div class=\"col-md-6\">\n",
      "<input name=\"Search\" placeholder=\"Search\" type=\"text\"/>\n",
      "</div>\n",
      "<div class=\"col-md-6\">\n",
      "<select aria-label=\"Default select example\" class=\"form-select\" id=\"options\">\n",
      "<option onchange=\"0\" selected=\"\">Mars</option>\n",
      "<!-- <option data-filter=\"sun\" class=\"button\">Mars</option> -->\n",
      "<option class=\"button\" data-filter=\"Sun\">Sun</option>\n",
      "<option class=\"button\" data-filter=\"earth\">Earth</option>\n",
      "<option class=\"button\" data-filter=\"ida\">Ida</option>\n",
      "<option class=\"button\" data-filter=\"jupiter\">Jupiter</option>\n",
      "<option class=\"button\" data-filter=\"venus\">Venus</option>\n",
      "</select>\n",
      "</div>\n",
      "</div>\n",
      "</div>\n",
      "</div>\n",
      "<div class=\"container mt-5\">\n",
      "<div class=\"col-md-12\">\n",
      "<div class=\"row\">\n",
      "<div class=\"col-md-6\">\n",
      "<h1>Images</h1>\n",
      "</div>\n",
      "<div class=\"col-md-6\" id=\"icon\">\n",
      "<div class=\"icon2\"></div>\n",
      "<div class=\"icon1\"></div>\n",
      "</div>\n",
      "</div>\n",
      "</div>\n",
      "<!-- first div -->\n",
      "<div class=\"div1\" id=\"filter\">\n",
      "<div class=\"thmbgroup\"></div>\n",
      "</div>\n",
      "<!-- first div ends -->\n",
      "<!-- second div starts -->\n",
      "<div class=\"col-md-12 grid-margin\" id=\"column\">\n",
      "<ul class=\"post-list\">\n",
      "<li class=\"post-heading\"></li>\n",
      "</ul>\n",
      "</div>\n",
      "<!-- second div starts -->\n",
      "</div>\n",
      "<div class=\"first imgcontainer mt-3\">\n",
      "<div class=\"col-md-12\">\n",
      "<div class=\"row\">\n",
      "<div class=\"col-md-3\">\n",
      "<img id=\"pic\" src=\"\"/>\n",
      "</div>\n",
      "</div>\n",
      "</div>\n",
      "</div>\n",
      "<!-- end -->\n",
      "<div class=\"module_gallery container\">\n",
      "<div class=\"col-md-12\">\n",
      "<div class=\"row\">\n",
      "<div class=\"col-md-6\">\n",
      "<div class=\"card\">\n",
      "<img alt=\"Card image cap\" class=\"card-img-top\" src=\"https://www.jpl.nasa.gov/assets/images/content/tmp/images/jpl_photojournal(3x1).jpg\"/>\n",
      "<div class=\"card-body\">\n",
      "<h5 class=\"card-title\">JPL Photojournal</h5>\n",
      "<p class=\"card-text\">Access to the full library of publicly released images from various Solar System exploration programs</p>\n",
      "</div>\n",
      "</div>\n",
      "</div>\n",
      "<div class=\"col-md-6\">\n",
      "<div class=\"card\">\n",
      "<img alt=\"Card image cap\" class=\"card-img-top\" src=\"https://www.jpl.nasa.gov/assets/images/content/tmp/images/nasa_images(3x1).jpg\"/>\n",
      "<div class=\"card-body\">\n",
      "<h5 class=\"card-title\">Great images in NASA</h5>\n",
      "<p class=\"card-text\">A selection of the best-known images from a half-century of exploration and discovery</p>\n",
      "</div>\n",
      "</div>\n",
      "</div>\n",
      "</div>\n",
      "</div>\n",
      "</div>\n",
      "<div class=\"multi_teaser\">\n",
      "<div class=\"container\">\n",
      "<h1>You Might Also Like</h1>\n",
      "<div class=\"col-md-12 mt-5\">\n",
      "<div class=\"row\">\n",
      "<div class=\"col-md-4\">\n",
      "<div class=\"card\">\n",
      "<img alt=\"Card image cap\" class=\"card-img-top\" src=\"https://imagecache.jpl.nasa.gov/images/640x350/C1-PIA24304---CatScanMars-16-640x350.gif\"/>\n",
      "<div class=\"card-body\">\n",
      "<p class=\"card-text\">Access to the full library of publicly released images from various Solar System exploration programs</p>\n",
      "</div>\n",
      "</div>\n",
      "</div>\n",
      "<div class=\"col-md-4\">\n",
      "<div class=\"card\">\n",
      "<img alt=\"Card image cap\" class=\"card-img-top\" src=\"https://imagecache.jpl.nasa.gov/images/640x350/PIA23491-16-640x350.jpg\"/>\n",
      "<div class=\"card-body\">\n",
      "<p class=\"card-text\">Access to the full library of publicly released images from various Solar System exploration programs</p>\n",
      "</div>\n",
      "</div>\n",
      "</div>\n",
      "<div class=\"col-md-4\">\n",
      "<div class=\"card\">\n",
      "<img alt=\"Card image cap\" class=\"card-img-top\" src=\"https://imagecache.jpl.nasa.gov/images/640x350/C1-PIA23180-16-640x350.gif\"/>\n",
      "<div class=\"card-body\">\n",
      "<p class=\"card-text\">Access to the full library of publicly released images from various Solar System exploration programs</p>\n",
      "</div>\n",
      "</div>\n",
      "</div>\n",
      "</div>\n",
      "</div>\n",
      "</div>\n",
      "</div>\n",
      "<div class=\"footer\">\n",
      "<div class=\"container\">\n",
      "<div class=\"col-md-12\">\n",
      "<div class=\"row\">\n",
      "<div class=\"col-md-3\">\n",
      "<h4>About JPL</h4>\n",
      "<ul>\n",
      "<li>About JPL</li>\n",
      "<li>JPL Vision</li>\n",
      "<li>Executive Council</li>\n",
      "<li>History</li>\n",
      "</ul>\n",
      "</div>\n",
      "<div class=\"col-md-3\">\n",
      "<h4>Education</h4>\n",
      "<ul>\n",
      "<li>Intern</li>\n",
      "<li>Learn</li>\n",
      "<li>Teach</li>\n",
      "<li>News</li>\n",
      "</ul>\n",
      "</div>\n",
      "<div class=\"col-md-3\">\n",
      "<h4>Our Sites</h4>\n",
      "<ul>\n",
      "<li>Asteroid Watch</li>\n",
      "<li>Basics of Spaceflight</li>\n",
      "<li>Cassini - Mission to Saturn</li>\n",
      "<li>Climate Kids</li>\n",
      "</ul>\n",
      "</div>\n",
      "<div class=\"col-md-3\">\n",
      "<h4>Galleries</h4>\n",
      "<ul>\n",
      "<li>JPL Space Images</li>\n",
      "<li>Videos</li>\n",
      "<li>Infographics</li>\n",
      "<li>Photojournal</li>\n",
      "</ul>\n",
      "</div>\n",
      "</div>\n",
      "</div>\n",
      "</div>\n",
      "</div>\n",
      "<!--<div class=\"showFullimage\">\n",
      "\t<button class=\"btn btn-outline-light hideimage\" onclick=hideimage()> Close</button>\n",
      "\t<img class=\"fullimage fade-in\" src=\"\">\n",
      "</div>-->\n",
      "<!-- <script src=\"js/jquery.easeScroll.js\"></script>  -->\n",
      "<script src=\"js/jquery-3.5.1.min.js\"></script>\n",
      "<!-- <script src=\"js/jquery-3.2.1.slim.min.js\"></script> -->\n",
      "<script src=\"js/demo.js\"></script>\n",
      "<!-- <script src=\"js/app.js\"></script> -->\n",
      "<script src=\"https://cdnjs.cloudflare.com/ajax/libs/popper.js/1.12.9/umd/popper.min.js\"></script>\n",
      "<script src=\"https://maxcdn.bootstrapcdn.com/bootstrap/4.0.0/js/bootstrap.min.js\"></script>\n",
      "<script src=\"js/fancyBox/jquery.fancybox.pack.js?v=2.1.5\" type=\"text/javascript\"></script>\n",
      "<link href=\"js/fancyBox/jquery.fancybox.css?v=2.1.5\" media=\"screen\" rel=\"stylesheet\" type=\"text/css\"/>\n",
      "<link href=\"js/fancyBox/helpers/jquery.fancybox-thumbs.css?v=1.0.7\" rel=\"stylesheet\" type=\"text/css\"/>\n",
      "<script src=\"js/fancyBox/helpers/jquery.fancybox-thumbs.js?v=1.0.7\" type=\"text/javascript\"></script>\n",
      "</body></html>>\n"
     ]
    }
   ],
   "source": [
    "browser.visit(\"https://spaceimages-mars.com/\")\n",
    "\n",
    "# Add the page source to the variable `content`.\n",
    "content = browser.html\n",
    "# Load the contents of the page, its source, into BeautifulSoup \n",
    "# class, which analyzes the HTML as a nested data structure and allows to select\n",
    "# its elements by using various selectors.\n",
    "soup = BeautifulSoup(content,features=\"lxml\")\n",
    "print(soup.prettify)"
   ]
  },
  {
   "cell_type": "code",
   "execution_count": 11,
   "id": "acbd9406",
   "metadata": {},
   "outputs": [
    {
     "data": {
      "text/plain": [
       "'https://spaceimages-mars.com/image/featured/mars1.jpg'"
      ]
     },
     "execution_count": 11,
     "metadata": {},
     "output_type": "execute_result"
    }
   ],
   "source": [
    "imgtag = soup.find(attrs={'class':'headerimage fade-in'})\n",
    "featured_image_url = imgtag['src']\n",
    "featured_image_url = f\"https://spaceimages-mars.com/{featured_image_url}\""
   ]
  },
  {
   "cell_type": "code",
   "execution_count": null,
   "id": "b6975a0a",
   "metadata": {},
   "outputs": [],
   "source": [
    "mars_data[\"space_img\"] = featured_image_url"
   ]
  },
  {
   "cell_type": "code",
   "execution_count": null,
   "id": "a965907b",
   "metadata": {
    "scrolled": true
   },
   "outputs": [],
   "source": [
    "#pulling table using pandas to scrap\n",
    "#then exporting to be used later in flask\n",
    "tables = pd.read_html(\"https://galaxyfacts-mars.com\")\n",
    "mars_facts = tables[1]\n",
    "mars_facts.columns = [\"Data Type\", \"Info\"]\n",
    "mars_facts.drop(index=mars_facts.index[0], axis=0,inplace=True)\n",
    "mars_facts = mars_facts.set_index(\"Data Type\")"
   ]
  },
  {
   "cell_type": "code",
   "execution_count": null,
   "id": "f7990ac9",
   "metadata": {},
   "outputs": [],
   "source": [
    "mars_data[\"facts_table\"] = mars_facts.to_html()"
   ]
  },
  {
   "cell_type": "code",
   "execution_count": null,
   "id": "495e9c01",
   "metadata": {},
   "outputs": [],
   "source": [
    "#connecting to the hemisphere page\n",
    "browser.visit(\"https://marshemispheres.com/\")\n",
    "content = browser.html\n",
    "\n",
    "soup = BeautifulSoup(content,features=\"lxml\")"
   ]
  },
  {
   "cell_type": "code",
   "execution_count": null,
   "id": "901f0fb7",
   "metadata": {},
   "outputs": [],
   "source": [
    "#grabbing the headers text of images on home page that have links\n",
    "mars_hemispheres = []\n",
    "\n",
    "for x in soup.findAll(\"div\", attrs={\"class\": \"item\"}):\n",
    "    ltext = x.find(\"h3\")\n",
    "    if ltext:\n",
    "        mars_hemispheres.append(ltext.text)\n"
   ]
  },
  {
   "cell_type": "code",
   "execution_count": null,
   "id": "79c24aa4",
   "metadata": {},
   "outputs": [],
   "source": [
    "#making connection with browser to run the click loop\n",
    "browser.visit(\"https://marshemispheres.com/\")"
   ]
  },
  {
   "cell_type": "code",
   "execution_count": null,
   "id": "0c615896",
   "metadata": {
    "scrolled": true
   },
   "outputs": [],
   "source": [
    "#click loop that finds the name and url of the original images\n",
    "hemis_imgs = []\n",
    "\n",
    "for m in mars_hemispheres:\n",
    "    hemis = {}\n",
    "    \n",
    "    browser.find_by_text(m).first.click()\n",
    "    visit = browser.links.find_by_partial_href(\"full.jpg\").first\n",
    "    hemis[\"tif_url\"] = visit[\"href\"]\n",
    "    hemis[\"title\"] = browser.find_by_css(\"h2.title\").text\n",
    "    \n",
    "    hemis_imgs.append(hemis)\n",
    "    \n",
    "    browser.back()\n",
    "    \n",
    "    \n",
    "browser.quit()"
   ]
  },
  {
   "cell_type": "code",
   "execution_count": null,
   "id": "f39b3db1",
   "metadata": {},
   "outputs": [],
   "source": [
    "mars_data[\"hemi_pics\"] = hemis_imgs\n",
    "timestamp = dt.datetime.now()\n",
    "mars_data[\"last_modified\"] = timestamp"
   ]
  }
 ],
 "metadata": {
  "kernelspec": {
   "display_name": "Python 3 (ipykernel)",
   "language": "python",
   "name": "python3"
  },
  "language_info": {
   "codemirror_mode": {
    "name": "ipython",
    "version": 3
   },
   "file_extension": ".py",
   "mimetype": "text/x-python",
   "name": "python",
   "nbconvert_exporter": "python",
   "pygments_lexer": "ipython3",
   "version": "3.9.7"
  }
 },
 "nbformat": 4,
 "nbformat_minor": 5
}
